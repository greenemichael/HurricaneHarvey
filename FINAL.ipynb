{
 "cells": [
  {
   "cell_type": "markdown",
   "metadata": {},
   "source": [
    "<h1 align='center'>How efficient was emergency response to Hurricane Harvey?</h1>\n",
    "<h2 align='center'>Michael Greene 4766783 gree1886</h2>\n",
    "<h3 align='center'>Data from api.harveyneeds.org/api/v1</h3><br><br>\n",
    "<h1>1. Exploring the data</h1>\n",
    "<h2>1.1 Request the data</h2>"
   ]
  },
  {
   "cell_type": "code",
   "execution_count": 2,
   "metadata": {},
   "outputs": [
    {
     "data": {
      "text/html": [
       "<div>\n",
       "<style>\n",
       "    .dataframe thead tr:only-child th {\n",
       "        text-align: right;\n",
       "    }\n",
       "\n",
       "    .dataframe thead th {\n",
       "        text-align: left;\n",
       "    }\n",
       "\n",
       "    .dataframe tbody tr th {\n",
       "        vertical-align: top;\n",
       "    }\n",
       "</style>\n",
       "<table border=\"1\" class=\"dataframe\">\n",
       "  <thead>\n",
       "    <tr style=\"text-align: right;\">\n",
       "      <th></th>\n",
       "      <th>anything_else_you_would_like_to_tell_us</th>\n",
       "      <th>are_supplies_needed</th>\n",
       "      <th>are_volunteers_needed</th>\n",
       "      <th>cleanPhone</th>\n",
       "      <th>contact_for_this_location_name</th>\n",
       "      <th>contact_for_this_location_phone_number</th>\n",
       "      <th>id</th>\n",
       "      <th>last_updated</th>\n",
       "      <th>latitude</th>\n",
       "      <th>location_address</th>\n",
       "      <th>location_name</th>\n",
       "      <th>longitude</th>\n",
       "      <th>needs</th>\n",
       "      <th>tell_us_about_the_supply_needs</th>\n",
       "      <th>tell_us_about_the_volunteer_needs</th>\n",
       "      <th>updatedAt</th>\n",
       "      <th>updated_at</th>\n",
       "      <th>updated_by</th>\n",
       "    </tr>\n",
       "  </thead>\n",
       "  <tbody>\n",
       "    <tr>\n",
       "      <th>0</th>\n",
       "      <td>Mobile Hospital</td>\n",
       "      <td>True</td>\n",
       "      <td>True</td>\n",
       "      <td>None</td>\n",
       "      <td>Dr. Candice Dunn</td>\n",
       "      <td>(409) 771-7812</td>\n",
       "      <td>83210</td>\n",
       "      <td>None</td>\n",
       "      <td>29.468127</td>\n",
       "      <td>3800 Baker Dr, Dickinson, TX 77539</td>\n",
       "      <td>Dickinson High School</td>\n",
       "      <td>-95.03095</td>\n",
       "      <td>None</td>\n",
       "      <td>baby items, adult diapers, water, nonperishabl...</td>\n",
       "      <td>Friday, August 31st and Saturday, Sept. 1st, 1...</td>\n",
       "      <td>None</td>\n",
       "      <td>None</td>\n",
       "      <td>Taylor</td>\n",
       "    </tr>\n",
       "    <tr>\n",
       "      <th>1</th>\n",
       "      <td>St. Laurence is not needed as a shelter, so we...</td>\n",
       "      <td>True</td>\n",
       "      <td>True</td>\n",
       "      <td>None</td>\n",
       "      <td>None</td>\n",
       "      <td>(281) 980-9812</td>\n",
       "      <td>83299</td>\n",
       "      <td>None</td>\n",
       "      <td>NaN</td>\n",
       "      <td>3100 Sweetwater Blvd, Sugar Land, Texas 77479</td>\n",
       "      <td>St. Laurence Catholic Church</td>\n",
       "      <td>NaN</td>\n",
       "      <td>None</td>\n",
       "      <td>None</td>\n",
       "      <td>None</td>\n",
       "      <td>None</td>\n",
       "      <td>None</td>\n",
       "      <td>None</td>\n",
       "    </tr>\n",
       "    <tr>\n",
       "      <th>2</th>\n",
       "      <td>Organizing teams to help with cleanup</td>\n",
       "      <td>True</td>\n",
       "      <td>True</td>\n",
       "      <td>None</td>\n",
       "      <td>None</td>\n",
       "      <td>(281) 427-1725</td>\n",
       "      <td>83302</td>\n",
       "      <td>None</td>\n",
       "      <td>NaN</td>\n",
       "      <td>600 W Sterling St, Baytown, TX</td>\n",
       "      <td>Memorial Baptist Church</td>\n",
       "      <td>NaN</td>\n",
       "      <td>None</td>\n",
       "      <td>None</td>\n",
       "      <td>None</td>\n",
       "      <td>None</td>\n",
       "      <td>None</td>\n",
       "      <td>None</td>\n",
       "    </tr>\n",
       "    <tr>\n",
       "      <th>3</th>\n",
       "      <td>9/6 - We are open as a distribution center tod...</td>\n",
       "      <td>True</td>\n",
       "      <td>True</td>\n",
       "      <td>None</td>\n",
       "      <td></td>\n",
       "      <td>(281) 395-5433</td>\n",
       "      <td>83219</td>\n",
       "      <td>None</td>\n",
       "      <td>NaN</td>\n",
       "      <td>26189 Westheimer Pkwy, Katy, TX 77494</td>\n",
       "      <td>Life Church Katy</td>\n",
       "      <td>NaN</td>\n",
       "      <td>None</td>\n",
       "      <td>unknown</td>\n",
       "      <td>unknown</td>\n",
       "      <td>None</td>\n",
       "      <td>None</td>\n",
       "      <td></td>\n",
       "    </tr>\n",
       "    <tr>\n",
       "      <th>4</th>\n",
       "      <td>None</td>\n",
       "      <td>True</td>\n",
       "      <td>True</td>\n",
       "      <td>5551234567</td>\n",
       "      <td>Lauren Duplessis</td>\n",
       "      <td>5551234567</td>\n",
       "      <td>83301</td>\n",
       "      <td>2017-09-05T22:23:20-05:00</td>\n",
       "      <td>NaN</td>\n",
       "      <td>1 NRG Park, Houston, TX 77054</td>\n",
       "      <td>NRG Center</td>\n",
       "      <td>NaN</td>\n",
       "      <td>[Sign up at: https://volunteer.bakerripley.org...</td>\n",
       "      <td>Desperately need men's pants and men's shoes</td>\n",
       "      <td>Sign up at: https://volunteer.bakerripley.org/...</td>\n",
       "      <td>2017-09-05T22:23:20-05:00</td>\n",
       "      <td>2017-09-05T22:23:20-05:00</td>\n",
       "      <td>None</td>\n",
       "    </tr>\n",
       "  </tbody>\n",
       "</table>\n",
       "</div>"
      ],
      "text/plain": [
       "             anything_else_you_would_like_to_tell_us are_supplies_needed  \\\n",
       "0                                    Mobile Hospital                True   \n",
       "1  St. Laurence is not needed as a shelter, so we...                True   \n",
       "2              Organizing teams to help with cleanup                True   \n",
       "3  9/6 - We are open as a distribution center tod...                True   \n",
       "4                                               None                True   \n",
       "\n",
       "  are_volunteers_needed  cleanPhone contact_for_this_location_name  \\\n",
       "0                  True        None               Dr. Candice Dunn   \n",
       "1                  True        None                           None   \n",
       "2                  True        None                           None   \n",
       "3                  True        None                                  \n",
       "4                  True  5551234567               Lauren Duplessis   \n",
       "\n",
       "  contact_for_this_location_phone_number     id               last_updated  \\\n",
       "0                         (409) 771-7812  83210                       None   \n",
       "1                         (281) 980-9812  83299                       None   \n",
       "2                         (281) 427-1725  83302                       None   \n",
       "3                         (281) 395-5433  83219                       None   \n",
       "4                             5551234567  83301  2017-09-05T22:23:20-05:00   \n",
       "\n",
       "    latitude                               location_address  \\\n",
       "0  29.468127             3800 Baker Dr, Dickinson, TX 77539   \n",
       "1        NaN  3100 Sweetwater Blvd, Sugar Land, Texas 77479   \n",
       "2        NaN                 600 W Sterling St, Baytown, TX   \n",
       "3        NaN          26189 Westheimer Pkwy, Katy, TX 77494   \n",
       "4        NaN                  1 NRG Park, Houston, TX 77054   \n",
       "\n",
       "                  location_name  longitude  \\\n",
       "0        Dickinson High School   -95.03095   \n",
       "1  St. Laurence Catholic Church        NaN   \n",
       "2       Memorial Baptist Church        NaN   \n",
       "3              Life Church Katy        NaN   \n",
       "4                    NRG Center        NaN   \n",
       "\n",
       "                                               needs  \\\n",
       "0                                               None   \n",
       "1                                               None   \n",
       "2                                               None   \n",
       "3                                               None   \n",
       "4  [Sign up at: https://volunteer.bakerripley.org...   \n",
       "\n",
       "                      tell_us_about_the_supply_needs  \\\n",
       "0  baby items, adult diapers, water, nonperishabl...   \n",
       "1                                               None   \n",
       "2                                               None   \n",
       "3                                            unknown   \n",
       "4       Desperately need men's pants and men's shoes   \n",
       "\n",
       "                   tell_us_about_the_volunteer_needs  \\\n",
       "0  Friday, August 31st and Saturday, Sept. 1st, 1...   \n",
       "1                                               None   \n",
       "2                                               None   \n",
       "3                                            unknown   \n",
       "4  Sign up at: https://volunteer.bakerripley.org/...   \n",
       "\n",
       "                   updatedAt                 updated_at updated_by  \n",
       "0                       None                       None     Taylor  \n",
       "1                       None                       None       None  \n",
       "2                       None                       None       None  \n",
       "3                       None                       None             \n",
       "4  2017-09-05T22:23:20-05:00  2017-09-05T22:23:20-05:00       None  "
      ]
     },
     "execution_count": 2,
     "metadata": {},
     "output_type": "execute_result"
    }
   ],
   "source": [
    "import requests\n",
    "import pandas as pd\n",
    "import matplotlib.pyplot as plt\n",
    "\n",
    "# request the needs, products, and shelters data from the API\n",
    "# cast response body as JSON, parse as pandas DF\n",
    "d1 = requests.get('https://api.harveyneeds.org/api/v1/needs').json()\n",
    "needsdf = pd.DataFrame(list(d1.items())[0][1])\n",
    "\n",
    "# most needs aren't a specific product so this DF wont be used much\n",
    "d2 = requests.get('https://api.harveyneeds.org/api/v1/products').json()\n",
    "productsdf = pd.DataFrame(list(d2.items())[0][1])\n",
    "\n",
    "d3 = requests.get('https://api.harveyneeds.org/api/v1/shelters').json()\n",
    "sheltersdf = pd.DataFrame(list(d3.items())[0][1])\n",
    "needsdf.head()"
   ]
  },
  {
   "cell_type": "markdown",
   "metadata": {},
   "source": [
    "<h2>1.2 Visualizing the needs and shelters</h2>"
   ]
  },
  {
   "cell_type": "code",
   "execution_count": 2,
   "metadata": {},
   "outputs": [
    {
     "data": {
      "image/png": "[encoded data removed]",
      "text/plain": [
       "<matplotlib.figure.Figure at 0x28d7c39b780>"
      ]
     },
     "metadata": {},
     "output_type": "display_data"
    }
   ],
   "source": [
    "# plot the needs and shelters\n",
    "ax = plt.figure().add_subplot(111)\n",
    "ax.scatter(needsdf['latitude'], needsdf['longitude'], s=4, c='red', label='need', )\n",
    "ax.scatter(sheltersdf['latitude'], sheltersdf['longitude'], s=4, label='shelter')\n",
    "plt.legend()\n",
    "plt.show()"
   ]
  },
  {
   "cell_type": "markdown",
   "metadata": {},
   "source": [
    "<h3><i>An outlier can be seen by inspection, so it is removed"
   ]
  },
  {
   "cell_type": "code",
   "execution_count": 3,
   "metadata": {},
   "outputs": [
    {
     "data": {
      "image/png": "[encoded data removed]",
      "text/plain": [
       "<matplotlib.figure.Figure at 0x28d7e7e71d0>"
      ]
     },
     "metadata": {},
     "output_type": "display_data"
    }
   ],
   "source": [
    "# remove the outlier(s) and replot\n",
    "ax2 = plt.figure().add_subplot(111)\n",
    "\n",
    "processed = needsdf.drop(20) # only do this to make the plotting more informative\n",
    "needs = needsdf[['latitude', 'longitude']].dropna()\n",
    "n2 = needs[needs['latitude'] > 29]\n",
    "n3 = n2[n2['latitude'] < 31]\n",
    "n4 = n3[n3['longitude'] > -99]\n",
    "\n",
    "shelters = sheltersdf[['latitude', 'longitude']].dropna()\n",
    "s2 = shelters[shelters['latitude'] < 35]\n",
    "\n",
    "ax2.scatter(processed['latitude'], processed['longitude'], s=4, c='red', label='need')\n",
    "ax2.scatter(shelters['latitude'], shelters['longitude'], s=4, label='shelter')\n",
    "plt.legend()\n",
    "plt.show()"
   ]
  },
  {
   "cell_type": "markdown",
   "metadata": {},
   "source": [
    "<h3><i>This gives a rough estimate of how well the shelters are distributed throughout the affected area</i></h3>\n",
    "<h2>1.3 Needs by category</h2>"
   ]
  },
  {
   "cell_type": "code",
   "execution_count": 4,
   "metadata": {},
   "outputs": [
    {
     "data": {
      "image/png": "[encoded data removed]",
      "text/plain": [
       "<matplotlib.figure.Figure at 0x28d7e7edc88>"
      ]
     },
     "metadata": {},
     "output_type": "display_data"
    }
   ],
   "source": [
    "import numpy as np\n",
    "idx = 'tell_us_about_the_supply_needs' # column name of interest\n",
    "\n",
    "# get the number of needs matching certain categories\n",
    "needVolunteers = needsdf[needsdf['are_volunteers_needed'] == True].size # keywords could affect the relative counts slightly\n",
    "needFoods = needsdf[needsdf[idx].str.contains(\"food|perishable|water\") == True].size\n",
    "needBabySups = needsdf[needsdf[idx].str.contains(\"baby|diaper\") == True].size\n",
    "needHygenics = needsdf[needsdf[idx].str.contains(\"hygiene|cleaning\") == True].size\n",
    "needClothes = needsdf[needsdf[idx].str.contains(\"clothing|shoes|clothes\") == True].size\n",
    "\n",
    "# compare the number of needs in each category\n",
    "vals = [needVolunteers, needFoods, needBabySups, needHygenics, needClothes]\n",
    "labels = ('volunteers', 'food/water', 'baby supplies', 'toiletries/hygenics', 'clothing')\n",
    "pos = np.arange(len(vals))\n",
    "\n",
    "plt.barh(pos, vals, align='center')\n",
    "plt.yticks(pos, labels)\n",
    "plt.xlabel('# of needs')\n",
    "plt.show()"
   ]
  },
  {
   "cell_type": "markdown",
   "metadata": {},
   "source": [
    "<h1>2. Creating the models</h1>\n",
    "<h2>2.1 Find the number of clusters using DBSCAN</h2>\n",
    "<h3><i>DBSCAN was chosen because it is unsupervised, and can find the number of natural clusters that exist in the data. Eps = 0.1 was guessed by inspecting the graph of Needs, as was min_samples = 3</i></h3>"
   ]
  },
  {
   "cell_type": "code",
   "execution_count": 5,
   "metadata": {},
   "outputs": [
    {
     "data": {
      "image/png": "[encoded data removed]",
      "text/plain": [
       "<matplotlib.figure.Figure at 0x28d7c39b400>"
      ]
     },
     "metadata": {},
     "output_type": "display_data"
    }
   ],
   "source": [
    "from sklearn.cluster import DBSCAN\n",
    "dbmodel = DBSCAN(eps=0.1, min_samples=3).fit(n3)\n",
    "core_samples_mask = np.zeros_like(dbmodel.labels_, dtype=bool)\n",
    "core_samples_mask[dbmodel.core_sample_indices_] = True\n",
    "\n",
    "# Number of clusters in labels, ignoring noise if present.\n",
    "dblabels = dbmodel.labels_\n",
    "nClusters = len(set(dblabels)) - (1 if -1 in dblabels else 0)\n",
    "\n",
    "plt.scatter(n3['latitude'], n3['longitude'], 9, marker=',')\n",
    "plt.title(\"Needs data before clustering\")\n",
    "plt.show()"
   ]
  },
  {
   "cell_type": "code",
   "execution_count": 6,
   "metadata": {},
   "outputs": [
    {
     "data": {
      "image/png": "[encoded data removed]",
      "text/plain": [
       "<matplotlib.figure.Figure at 0x28d00aa53c8>"
      ]
     },
     "metadata": {},
     "output_type": "display_data"
    }
   ],
   "source": [
    "# Black is used to represent noise\n",
    "dbunique_labels = set(dblabels)\n",
    "colors = [plt.cm.Spectral(each)\n",
    "          for each in np.linspace(0, 1, len(dbunique_labels))]\n",
    "for k, col in zip(dbunique_labels, colors):\n",
    "    if k == -1:\n",
    "        # Black used for noise.\n",
    "        col = [0, 0, 0, 1]\n",
    "\n",
    "    class_member_mask = (dblabels == k)\n",
    "\n",
    "    xy = n3[class_member_mask & core_samples_mask]\n",
    "    plt.plot(xy['latitude'], xy['longitude'], 'o', markerfacecolor=tuple(col),\n",
    "             markeredgecolor='k', markersize=14)\n",
    "\n",
    "    xy = n3[class_member_mask & ~core_samples_mask]\n",
    "    plt.plot(xy['latitude'], xy['longitude'], 'o', markerfacecolor=tuple(col),\n",
    "             markeredgecolor='k', markersize=6)\n",
    "\n",
    "plt.title('Needs data after clustering with DBSCAN')\n",
    "plt.show()"
   ]
  },
  {
   "cell_type": "markdown",
   "metadata": {},
   "source": [
    "<h3><i>Based on this clustering, we should look for 5 clusters when training other models</i></h3>"
   ]
  },
  {
   "cell_type": "markdown",
   "metadata": {},
   "source": [
    "<h2>2.2 find the \"best\" clustering using Agglomerative Hierarchical clustering</h2>\n",
    "<h3><i>Agglomerative Hierarchical was chosen over other unsupervised methods because it tends to do well when classes are imbalanced and have varying densities, such as in the needs data<br><br>\n",
    "Euclidean Distance evaluates similarities, and Wards method merges clusters</i></h3>"
   ]
  },
  {
   "cell_type": "code",
   "execution_count": 7,
   "metadata": {},
   "outputs": [
    {
     "data": {
      "image/png": "[encoded data removed]",
      "text/plain": [
       "<matplotlib.figure.Figure at 0x28d00b27f98>"
      ]
     },
     "metadata": {},
     "output_type": "display_data"
    }
   ],
   "source": [
    "from sklearn.cluster import AgglomerativeClustering\n",
    "acmodel = AgglomerativeClustering(nClusters).fit(n3) # similarity by euclidean distance, Wards method for merging clusters\n",
    "\n",
    "# Number of clusters in labels, ignoring noise if present.\n",
    "aclabels = acmodel.labels_\n",
    "# Black removed and is used for noise instead.\n",
    "acunique_labels = set(aclabels)\n",
    "colors = [plt.cm.Spectral(each)\n",
    "          for each in np.linspace(0, 1, len(acunique_labels))]\n",
    "for k, col in zip(acunique_labels, colors):\n",
    "    if k == -1:\n",
    "        # Black used for noise.\n",
    "        col = [0, 0, 0, 1]\n",
    "\n",
    "    class_member_mask = (aclabels == k)\n",
    "\n",
    "    xy = n3[class_member_mask]\n",
    "    plt.plot(xy['latitude'], xy['longitude'], 'o', markerfacecolor=tuple(col),\n",
    "             markeredgecolor='k', markersize=14)\n",
    "\n",
    "    xy = n3[class_member_mask]\n",
    "    plt.plot(xy['latitude'], xy['longitude'], ',', markerfacecolor=tuple(col),\n",
    "             markeredgecolor='k', markersize=6)\n",
    "\n",
    "plt.title('Needs data after clustering with Agglomerative Clustering')\n",
    "plt.show()"
   ]
  },
  {
   "cell_type": "markdown",
   "metadata": {},
   "source": [
    "<h2>2.3 Cluster Needs data with kMeans to find the centroids of each cluster</h2>"
   ]
  },
  {
   "cell_type": "code",
   "execution_count": 8,
   "metadata": {},
   "outputs": [
    {
     "data": {
      "image/png": "[encoded data removed]",
      "text/plain": [
       "<matplotlib.figure.Figure at 0x28d7e749e48>"
      ]
     },
     "metadata": {},
     "output_type": "display_data"
    }
   ],
   "source": [
    "from sklearn.cluster import KMeans\n",
    "kmmodel = KMeans(nClusters).fit(n3) # default to KMeans++ initialization\n",
    "\n",
    "# Number of clusters in labels, ignoring noise if present.\n",
    "kmlabels = kmmodel.labels_\n",
    "# Black removed and is used for noise instead.\n",
    "kmunique_labels = set(kmlabels)\n",
    "colors = [plt.cm.Spectral(each)\n",
    "          for each in np.linspace(0, 1, len(kmunique_labels))]\n",
    "for k, col in zip(kmunique_labels, colors):\n",
    "    if k == -1:\n",
    "        # Black used for noise.\n",
    "        col = [0, 0, 0, 1]\n",
    "\n",
    "    class_member_mask = (kmlabels == k)\n",
    "\n",
    "    xy = n3[class_member_mask]\n",
    "    plt.plot(xy['latitude'], xy['longitude'], 'o', markerfacecolor=tuple(col),\n",
    "             markeredgecolor='k', markersize=10)\n",
    "\n",
    "    xy = n3[class_member_mask]\n",
    "    plt.plot(xy['latitude'], xy['longitude'], 'o', markerfacecolor=tuple(col),\n",
    "             markeredgecolor='k', markersize=6)\n",
    "\n",
    "plt.title('Number of clusters: %d' % nClusters)\n",
    "plt.show()"
   ]
  },
  {
   "cell_type": "markdown",
   "metadata": {},
   "source": [
    "<h2>2.4 Cluster the Shelter data as well</h2>\n",
    "<h3>2.4.1 Cluster with kMeans to compare centroids</h3>\n",
    "\n",
    "<h3><i>kMeans++ was used to initialize the cluster centroids which maximizes distance between centroids when initialized</i></h3>"
   ]
  },
  {
   "cell_type": "code",
   "execution_count": 9,
   "metadata": {},
   "outputs": [
    {
     "data": {
      "image/png": "[encoded data removed]",
      "text/plain": [
       "<matplotlib.figure.Figure at 0x28d7e7ed9e8>"
      ]
     },
     "metadata": {},
     "output_type": "display_data"
    }
   ],
   "source": [
    "plt.scatter(s2['latitude'], s2['longitude'], 4, marker=',')\n",
    "plt.title(\"Shelter data before clustering\")\n",
    "plt.show()"
   ]
  },
  {
   "cell_type": "code",
   "execution_count": 10,
   "metadata": {},
   "outputs": [
    {
     "data": {
      "image/png": "[encoded data removed]",
      "text/plain": [
       "<matplotlib.figure.Figure at 0x28d00c63f28>"
      ]
     },
     "metadata": {},
     "output_type": "display_data"
    }
   ],
   "source": [
    "kmSHmodel = KMeans(nClusters).fit(s2) # default to KMeans++ initialization\n",
    "\n",
    "# Number of clusters in labels, ignoring noise if present.\n",
    "kmslabels = kmSHmodel.labels_\n",
    "# Black removed and is used for noise instead.\n",
    "kmunique_labels = set(kmslabels)\n",
    "colors = [plt.cm.Spectral(each)\n",
    "          for each in np.linspace(0, 1, len(kmunique_labels))]\n",
    "for k, col in zip(kmunique_labels, colors):\n",
    "    if k == -1:\n",
    "        # Black used for noise.\n",
    "        col = [0, 0, 0, 1]\n",
    "\n",
    "    class_member_mask = (kmslabels == k)\n",
    "\n",
    "    xy = s2[class_member_mask]\n",
    "    plt.plot(xy['latitude'], xy['longitude'], 'o', markerfacecolor=tuple(col),\n",
    "             markeredgecolor='k', markersize=10)\n",
    "\n",
    "    xy = s2[class_member_mask]\n",
    "    plt.plot(xy['latitude'], xy['longitude'], 'o', markerfacecolor=tuple(col),\n",
    "             markeredgecolor='k', markersize=6)\n",
    "\n",
    "plt.title('Shelter data after clustering')\n",
    "plt.show()"
   ]
  },
  {
   "cell_type": "markdown",
   "metadata": {},
   "source": [
    "<h3>2.4.2 Cluster shelters with Agglomerative Hierarchical- this will be used to compare with the needs AC model predictions</h3>"
   ]
  },
  {
   "cell_type": "code",
   "execution_count": 11,
   "metadata": {
    "collapsed": true
   },
   "outputs": [],
   "source": [
    "acSHmodel = AgglomerativeClustering(nClusters).fit(s2)"
   ]
  },
  {
   "cell_type": "markdown",
   "metadata": {},
   "source": [
    "<h3><i>We can now create a few useful variables to help evauate the efficiency of the shelters</i></h3>"
   ]
  },
  {
   "cell_type": "code",
   "execution_count": 12,
   "metadata": {
    "collapsed": true
   },
   "outputs": [],
   "source": [
    "needsCentroids = kmmodel.cluster_centers_\n",
    "shelterCentroids = kmSHmodel.cluster_centers_\n",
    "\n",
    "kmlabels = kmmodel.labels_\n",
    "kmslabels = kmSHmodel.labels_\n",
    "kmpredlabels = kmmodel.predict(s2)\n",
    "\n",
    "aclabels = acmodel.labels_\n",
    "acslabels = acSHmodel.labels_"
   ]
  },
  {
   "cell_type": "markdown",
   "metadata": {},
   "source": [
    "<h1>3. Model evaluation</h1>\n",
    "<h2>3.1 Evaluate kMeans model for needs, this will give an idea of how skeptical to be when evaluating shelters against this model</h2>\n",
    "<h3>3.1.1 Evaluate with Silhouette Score</h3>"
   ]
  },
  {
   "cell_type": "code",
   "execution_count": 13,
   "metadata": {},
   "outputs": [
    {
     "name": "stdout",
     "output_type": "stream",
     "text": [
      "kMeans Silhouette Score:  0.496676040376\n"
     ]
    }
   ],
   "source": [
    "from sklearn import metrics\n",
    "kneedsSil = metrics.silhouette_score(n3, kmlabels)\n",
    "print(\"kMeans Silhouette Score: \", kneedsSil)"
   ]
  },
  {
   "cell_type": "markdown",
   "metadata": {},
   "source": [
    "<h3><i>Silhouette score ranges from -1 to 1 with score $<$ 0 indicating high misclassification and 0 indicating overlapping clusters. So a score of 0.5 is not bad</i></h3><br>\n",
    "<h3>3.1.2 Evaluate needs clustering with kMeans against Agglomerative Clustering</h3>"
   ]
  },
  {
   "cell_type": "code",
   "execution_count": 14,
   "metadata": {},
   "outputs": [
    {
     "name": "stdout",
     "output_type": "stream",
     "text": [
      "Agglomerative Hierarchical Silhouette Score:  0.500913776478\n"
     ]
    }
   ],
   "source": [
    "#first evaluate the Agglomerative Clustering Model\n",
    "acneedsSil = metrics.silhouette_score(n3, aclabels)\n",
    "print(\"Agglomerative Hierarchical Silhouette Score: \", acneedsSil)"
   ]
  },
  {
   "cell_type": "markdown",
   "metadata": {},
   "source": [
    "<h3><i>So AC model is pretty good as well. Now compare kMeans to AC</i></h3>"
   ]
  },
  {
   "cell_type": "code",
   "execution_count": 15,
   "metadata": {},
   "outputs": [
    {
     "name": "stdout",
     "output_type": "stream",
     "text": [
      "kMeans model matches AC by 79.8591573848 %\n"
     ]
    }
   ],
   "source": [
    "kmAC = metrics.fowlkes_mallows_score(aclabels, kmlabels)\n",
    "print(\"kMeans model matches AC by\", kmAC*100, \"%\")"
   ]
  },
  {
   "cell_type": "markdown",
   "metadata": {},
   "source": [
    "<h3><i>Comparing to the kMeans model is a good indicator of how well the shelters are clustered if we accept 80%</i></h3><br>\n",
    "<h2>3.2 Evaluate the kMeans model for the shelters data</h2>"
   ]
  },
  {
   "cell_type": "code",
   "execution_count": 16,
   "metadata": {},
   "outputs": [
    {
     "name": "stdout",
     "output_type": "stream",
     "text": [
      "kMeans Silhouette Score:  0.645681135428\n"
     ]
    }
   ],
   "source": [
    "ksheltSil = metrics.silhouette_score(s2, kmslabels)\n",
    "print(\"kMeans Silhouette Score: \", ksheltSil)"
   ]
  },
  {
   "cell_type": "markdown",
   "metadata": {},
   "source": [
    "<h2>3.3 Evaluate Agglomerative Hierarchical model for shelters data</h2>"
   ]
  },
  {
   "cell_type": "code",
   "execution_count": 17,
   "metadata": {},
   "outputs": [
    {
     "name": "stdout",
     "output_type": "stream",
     "text": [
      "Agglomerative Clustering Silhouette Score:  0.639810202341\n"
     ]
    }
   ],
   "source": [
    "acsheltSil = metrics.silhouette_score(s2, acslabels)\n",
    "print(\"Agglomerative Clustering Silhouette Score: \", acsheltSil)"
   ]
  },
  {
   "cell_type": "markdown",
   "metadata": {},
   "source": [
    "<h2>3.4 Model evaluation summary</h2>"
   ]
  },
  {
   "cell_type": "code",
   "execution_count": 18,
   "metadata": {},
   "outputs": [
    {
     "data": {
      "text/html": [
       "<div>\n",
       "<style>\n",
       "    .dataframe thead tr:only-child th {\n",
       "        text-align: right;\n",
       "    }\n",
       "\n",
       "    .dataframe thead th {\n",
       "        text-align: left;\n",
       "    }\n",
       "\n",
       "    .dataframe tbody tr th {\n",
       "        vertical-align: top;\n",
       "    }\n",
       "</style>\n",
       "<table border=\"1\" class=\"dataframe\">\n",
       "  <thead>\n",
       "    <tr style=\"text-align: right;\">\n",
       "      <th></th>\n",
       "      <th>Dataset</th>\n",
       "      <th>Model</th>\n",
       "      <th>Silhouette Score</th>\n",
       "    </tr>\n",
       "  </thead>\n",
       "  <tbody>\n",
       "    <tr>\n",
       "      <th>0</th>\n",
       "      <td>Needs</td>\n",
       "      <td>kMeans</td>\n",
       "      <td>0.496676</td>\n",
       "    </tr>\n",
       "    <tr>\n",
       "      <th>1</th>\n",
       "      <td>Needs</td>\n",
       "      <td>AC</td>\n",
       "      <td>0.500914</td>\n",
       "    </tr>\n",
       "    <tr>\n",
       "      <th>2</th>\n",
       "      <td>Shelters</td>\n",
       "      <td>kMeans</td>\n",
       "      <td>0.645681</td>\n",
       "    </tr>\n",
       "    <tr>\n",
       "      <th>3</th>\n",
       "      <td>Shelters</td>\n",
       "      <td>AC</td>\n",
       "      <td>0.639810</td>\n",
       "    </tr>\n",
       "    <tr>\n",
       "      <th>4</th>\n",
       "      <td>Needs</td>\n",
       "      <td>DBSCAN</td>\n",
       "      <td>0.457336</td>\n",
       "    </tr>\n",
       "  </tbody>\n",
       "</table>\n",
       "</div>"
      ],
      "text/plain": [
       "    Dataset   Model  Silhouette Score\n",
       "0     Needs  kMeans          0.496676\n",
       "1     Needs      AC          0.500914\n",
       "2  Shelters  kMeans          0.645681\n",
       "3  Shelters      AC          0.639810\n",
       "4     Needs  DBSCAN          0.457336"
      ]
     },
     "execution_count": 18,
     "metadata": {},
     "output_type": "execute_result"
    }
   ],
   "source": [
    "summaryDicts = [{\"Dataset\":\"Needs\", \"Model\":\"kMeans\", \"Silhouette Score\":kneedsSil},\n",
    "               {\"Dataset\":\"Needs\", \"Model\":\"AC\", \"Silhouette Score\":acneedsSil},\n",
    "               {\"Dataset\":\"Shelters\", \"Model\": \"kMeans\", \"Silhouette Score\":ksheltSil},\n",
    "               {\"Dataset\":\"Shelters\", \"Model\":\"AC\", \"Silhouette Score\":acsheltSil},\n",
    "               {\"Dataset\":\"Needs\", \"Model\":\"DBSCAN\", \"Silhouette Score\": metrics.silhouette_score(n3, dblabels)}]\n",
    "summaryDF = pd.DataFrame(summaryDicts)\n",
    "summaryDF"
   ]
  },
  {
   "cell_type": "markdown",
   "metadata": {},
   "source": [
    "<h3><i>In addition, the kMeans labels for the needs data matched the AC labels for about 80% of the data by using Fowlkes-Mallows score. This leads to the conclusion that kMeans is a good approximator for AC so it can be used to compare the needs and shelters clusterings when answering the business problem.</i></h3>\n",
    "\n",
    "<h1>4 Evaluate the emergency response (answer the business question)</h1>\n",
    "<h2>4.1 Compare the cluster centroids from kMeans models</h2>\n",
    "<h3>4.1.1 Graph centroids to visualize</h3>"
   ]
  },
  {
   "cell_type": "code",
   "execution_count": 19,
   "metadata": {},
   "outputs": [
    {
     "data": {
      "image/png": "[encoded data removed]",
      "text/plain": [
       "<matplotlib.figure.Figure at 0x28d7e94e828>"
      ]
     },
     "metadata": {},
     "output_type": "display_data"
    }
   ],
   "source": [
    "nX = []\n",
    "sX = []\n",
    "nY = []\n",
    "sY = []\n",
    "for i in range(len(needsCentroids)):\n",
    "    nX.append(needsCentroids[i][0])\n",
    "    nY.append(needsCentroids[i][1])\n",
    "    sX.append(shelterCentroids[i][0])\n",
    "    sY.append(shelterCentroids[i][1])\n",
    "\n",
    "plt.scatter(nX, nY, label=\"needs\")\n",
    "plt.scatter(sX, sY, label=\"shelters\")\n",
    "plt.legend()\n",
    "plt.show()"
   ]
  },
  {
   "cell_type": "markdown",
   "metadata": {},
   "source": [
    "<h3>4.1.2 use Hausdorff distance to determine how close the farthest shortest pair is</h3><br>\n",
    "<h3><i>Hausdorff distance assigns a nearest neighbor (from the shelters class) to each needs centroid, then returns the greatest distance between the shortest pairs</i></h3>"
   ]
  },
  {
   "cell_type": "code",
   "execution_count": 20,
   "metadata": {},
   "outputs": [
    {
     "name": "stdout",
     "output_type": "stream",
     "text": [
      "greatest distance between shortest pairs:  0.43122839839342864\n"
     ]
    }
   ],
   "source": [
    "# use Hausdorff Distance to compute distance between two sets of centroids\n",
    "import scipy.spatial.distance as hd\n",
    "hausdorff = hd.directed_hausdorff(needsCentroids, shelterCentroids)[0]\n",
    "print(\"greatest distance between shortest pairs: \", hausdorff)"
   ]
  },
  {
   "cell_type": "code",
   "execution_count": 21,
   "metadata": {},
   "outputs": [
    {
     "name": "stdout",
     "output_type": "stream",
     "text": [
      "greatest shortest distance in miles:  29.754759489146576\n"
     ]
    }
   ],
   "source": [
    "#https://gis.stackexchange.com/questions/142326/calculating-longitude-length-in-miles\n",
    "#This site says 1 degree longitude is roughly 69 miles\n",
    "hausdorffMiles = 69.0*hausdorff\n",
    "print(\"greatest shortest distance in miles: \", hausdorffMiles)"
   ]
  },
  {
   "cell_type": "markdown",
   "metadata": {},
   "source": [
    "<h3><i>30 miles is the average distance consistently traveled by the least efficiently-placed group</i></h3>\n",
    "<h2>4.2 Compare predictions from a kMeans model for needs to actual labels from a kMeans model for shelters</h2>"
   ]
  },
  {
   "cell_type": "markdown",
   "metadata": {},
   "source": [
    "<h3>4.2.1 Using Fowlkes Mallows score gives idea of how many needs have a nearest shelter within the cluster diameter</h3>"
   ]
  },
  {
   "cell_type": "code",
   "execution_count": 22,
   "metadata": {},
   "outputs": [
    {
     "name": "stdout",
     "output_type": "stream",
     "text": [
      "Fowlkes Mallows:  0.609181861939\n"
     ]
    }
   ],
   "source": [
    "print(\"Fowlkes Mallows: \", metrics.fowlkes_mallows_score(kmslabels, kmpredlabels))"
   ]
  },
  {
   "cell_type": "markdown",
   "metadata": {},
   "source": [
    "<h3><i>So 60% of needs have a nearest shelter within their cluster diameter</i></h3>\n",
    "<h3>4.2.2 now using Rand Index, which gives an estimate of how \"accurate\" one clustering is when compared to a baseline clustering</h3>"
   ]
  },
  {
   "cell_type": "code",
   "execution_count": 23,
   "metadata": {},
   "outputs": [
    {
     "name": "stdout",
     "output_type": "stream",
     "text": [
      "Adjusted Rand Index:  0.349978707075\n"
     ]
    }
   ],
   "source": [
    "print(\"Adjusted Rand Index: \", metrics.adjusted_rand_score(kmslabels, kmpredlabels))"
   ]
  },
  {
   "cell_type": "markdown",
   "metadata": {},
   "source": [
    "<h2>These measures give an idea of how efficiently the shelters are distributed, and the needs clustering centroids give an idea of where shelters should be located to maximize their reach.</h2>"
   ]
  },
  {
   "cell_type": "code",
   "execution_count": 3,
   "metadata": {},
   "outputs": [
    {
     "ename": "NameError",
     "evalue": "name 'needs' is not defined",
     "output_type": "error",
     "traceback": [
      "\u001b[1;31m---------------------------------------------------------------------------\u001b[0m",
      "\u001b[1;31mNameError\u001b[0m                                 Traceback (most recent call last)",
      "\u001b[1;32m<ipython-input-3-9ed863649721>\u001b[0m in \u001b[0;36m<module>\u001b[1;34m()\u001b[0m\n\u001b[1;32m----> 1\u001b[1;33m \u001b[0mneeds\u001b[0m\u001b[1;33m.\u001b[0m\u001b[0msize\u001b[0m\u001b[1;33m\u001b[0m\u001b[0m\n\u001b[0m",
      "\u001b[1;31mNameError\u001b[0m: name 'needs' is not defined"
     ]
    }
   ],
   "source": [
    "needs.size"
   ]
  },
  {
   "cell_type": "code",
   "execution_count": null,
   "metadata": {
    "collapsed": true
   },
   "outputs": [],
   "source": []
  }
 ],
 "metadata": {
  "kernelspec": {
   "display_name": "Python 3",
   "language": "python",
   "name": "python3"
  },
  "language_info": {
   "codemirror_mode": {
    "name": "ipython",
    "version": 3
   },
   "file_extension": ".py",
   "mimetype": "text/x-python",
   "name": "python",
   "nbconvert_exporter": "python",
   "pygments_lexer": "ipython3",
   "version": "3.6.3"
  }
 },
 "nbformat": 4,
 "nbformat_minor": 2
}
