{
 "cells": [
  {
   "cell_type": "markdown",
   "metadata": {},
   "source": [
    "<h1 align=\"center\">Data exploration for HarveyNeeds dataset</h1>\n",
    "<h3 align=\"center\">Michael Greene 4766783 gree1886 </h3><br><br>\n",
    "\n",
    "<div>\n",
    "The busininess question is posed as follows- <i>given the distribution of needs and resources across an affected area, are the resources distributed in such a way to optimize help offered to people? Where should we relocate the resources to optimize care-giving potential?</i>\n",
    "</div>"
   ]
  },
  {
   "cell_type": "code",
   "execution_count": 1,
   "metadata": {},
   "outputs": [
    {
     "data": {
      "text/html": [
       "<div>\n",
       "<style>\n",
       "    .dataframe thead tr:only-child th {\n",
       "        text-align: right;\n",
       "    }\n",
       "\n",
       "    .dataframe thead th {\n",
       "        text-align: left;\n",
       "    }\n",
       "\n",
       "    .dataframe tbody tr th {\n",
       "        vertical-align: top;\n",
       "    }\n",
       "</style>\n",
       "<table border=\"1\" class=\"dataframe\">\n",
       "  <thead>\n",
       "    <tr style=\"text-align: right;\">\n",
       "      <th></th>\n",
       "      <th>accepting</th>\n",
       "      <th>address</th>\n",
       "      <th>city</th>\n",
       "      <th>cleanPhone</th>\n",
       "      <th>county</th>\n",
       "      <th>id</th>\n",
       "      <th>last_updated</th>\n",
       "      <th>latitude</th>\n",
       "      <th>longitude</th>\n",
       "      <th>needs</th>\n",
       "      <th>notes</th>\n",
       "      <th>pets</th>\n",
       "      <th>phone</th>\n",
       "      <th>shelter</th>\n",
       "      <th>source</th>\n",
       "      <th>supply_needs</th>\n",
       "      <th>updatedAt</th>\n",
       "      <th>updated_at</th>\n",
       "      <th>updated_by</th>\n",
       "      <th>volunteer_needs</th>\n",
       "    </tr>\n",
       "  </thead>\n",
       "  <tbody>\n",
       "    <tr>\n",
       "      <th>0</th>\n",
       "      <td>True</td>\n",
       "      <td>1 Fellowship Way</td>\n",
       "      <td>The Woodlands</td>\n",
       "      <td>None</td>\n",
       "      <td>Montgomery</td>\n",
       "      <td>283229</td>\n",
       "      <td>None</td>\n",
       "      <td>30.200987</td>\n",
       "      <td>-95.473728</td>\n",
       "      <td>None</td>\n",
       "      <td></td>\n",
       "      <td></td>\n",
       "      <td>(281) 367-1900</td>\n",
       "      <td>Woodlands Church</td>\n",
       "      <td>https://www.facebook.com/WoodlandsChurch/</td>\n",
       "      <td>MUD OUT &amp; CLEANING SUPPLIES NEEDED: Contractor...</td>\n",
       "      <td>None</td>\n",
       "      <td>None</td>\n",
       "      <td>Benny</td>\n",
       "      <td></td>\n",
       "    </tr>\n",
       "    <tr>\n",
       "      <th>1</th>\n",
       "      <td>False</td>\n",
       "      <td>6006 North Fwy, Houston, TX 77076, USA</td>\n",
       "      <td>Houston</td>\n",
       "      <td>None</td>\n",
       "      <td>Houston</td>\n",
       "      <td>283124</td>\n",
       "      <td>None</td>\n",
       "      <td>29.854141</td>\n",
       "      <td>-95.396813</td>\n",
       "      <td>None</td>\n",
       "      <td>No longer open as a shelter but accepting dona...</td>\n",
       "      <td>No</td>\n",
       "      <td>(713) 694-5570</td>\n",
       "      <td>6006 North Fwy</td>\n",
       "      <td>https://www.galleryfurniture.com/cleaningsupplies</td>\n",
       "      <td>new Clorox, shovels, Pinesol, shop vacs, spong...</td>\n",
       "      <td>None</td>\n",
       "      <td>None</td>\n",
       "      <td>Robyn</td>\n",
       "      <td>9/2 - none today, volunteers can sign up on we...</td>\n",
       "    </tr>\n",
       "    <tr>\n",
       "      <th>2</th>\n",
       "      <td>True</td>\n",
       "      <td>1900 N. Downing</td>\n",
       "      <td>Angleton, Texas</td>\n",
       "      <td>None</td>\n",
       "      <td>Brazoria</td>\n",
       "      <td>283090</td>\n",
       "      <td>None</td>\n",
       "      <td>29.178536</td>\n",
       "      <td>-95.419059</td>\n",
       "      <td>None</td>\n",
       "      <td>You can also call Angelton ISD (979) 864-8000 ...</td>\n",
       "      <td>yes</td>\n",
       "      <td>(979) 864-8016</td>\n",
       "      <td>Angleton ISD Administration Building / Brazori...</td>\n",
       "      <td></td>\n",
       "      <td>no supplies, but running out of meals</td>\n",
       "      <td>None</td>\n",
       "      <td>None</td>\n",
       "      <td>aabeas</td>\n",
       "      <td>none, Office of Homeland Preparedness has over...</td>\n",
       "    </tr>\n",
       "    <tr>\n",
       "      <th>3</th>\n",
       "      <td>False</td>\n",
       "      <td>1001 Avenida de Las Americas</td>\n",
       "      <td>Houston</td>\n",
       "      <td>7138538001</td>\n",
       "      <td>Harris</td>\n",
       "      <td>283116</td>\n",
       "      <td>2017-09-03T20:24:21-05:00</td>\n",
       "      <td>29.752142</td>\n",
       "      <td>-95.357836</td>\n",
       "      <td>[Volunteers needed. Special need for: Social W...</td>\n",
       "      <td>Unable to speak with management or a redcross ...</td>\n",
       "      <td>Yes, with crate. Hall A</td>\n",
       "      <td>(713) 853-8001</td>\n",
       "      <td>George R. Brown</td>\n",
       "      <td>http://www.grbhouston.com/george-r-brown-emerg...</td>\n",
       "      <td>Per automated message, no longer accepting don...</td>\n",
       "      <td>2017-09-03T20:24:21-05:00</td>\n",
       "      <td>2017-09-03T20:24:21-05:00</td>\n",
       "      <td>Rawaa</td>\n",
       "      <td>Volunteers needed. Special need for: Social Wo...</td>\n",
       "    </tr>\n",
       "    <tr>\n",
       "      <th>4</th>\n",
       "      <td>True</td>\n",
       "      <td>2405 Minnesota St. Houston, TX</td>\n",
       "      <td>Houston</td>\n",
       "      <td>None</td>\n",
       "      <td>None</td>\n",
       "      <td>283352</td>\n",
       "      <td>None</td>\n",
       "      <td>29.645920</td>\n",
       "      <td>-95.238882</td>\n",
       "      <td>None</td>\n",
       "      <td>Maternity shelter accepting pregnant women, ho...</td>\n",
       "      <td>No</td>\n",
       "      <td>713 623-2120</td>\n",
       "      <td>LifeHouse Houston</td>\n",
       "      <td>TX</td>\n",
       "      <td>None</td>\n",
       "      <td>None</td>\n",
       "      <td>None</td>\n",
       "      <td>None</td>\n",
       "      <td>None at this time</td>\n",
       "    </tr>\n",
       "  </tbody>\n",
       "</table>\n",
       "</div>"
      ],
      "text/plain": [
       "   accepting                                 address             city  \\\n",
       "0       True                        1 Fellowship Way    The Woodlands   \n",
       "1      False  6006 North Fwy, Houston, TX 77076, USA          Houston   \n",
       "2       True                         1900 N. Downing  Angleton, Texas   \n",
       "3      False            1001 Avenida de Las Americas          Houston   \n",
       "4       True          2405 Minnesota St. Houston, TX          Houston   \n",
       "\n",
       "   cleanPhone      county      id               last_updated   latitude  \\\n",
       "0        None  Montgomery  283229                       None  30.200987   \n",
       "1        None     Houston  283124                       None  29.854141   \n",
       "2        None    Brazoria  283090                       None  29.178536   \n",
       "3  7138538001      Harris  283116  2017-09-03T20:24:21-05:00  29.752142   \n",
       "4        None        None  283352                       None  29.645920   \n",
       "\n",
       "   longitude                                              needs  \\\n",
       "0 -95.473728                                               None   \n",
       "1 -95.396813                                               None   \n",
       "2 -95.419059                                               None   \n",
       "3 -95.357836  [Volunteers needed. Special need for: Social W...   \n",
       "4 -95.238882                                               None   \n",
       "\n",
       "                                               notes                     pets  \\\n",
       "0                                                                               \n",
       "1  No longer open as a shelter but accepting dona...                       No   \n",
       "2  You can also call Angelton ISD (979) 864-8000 ...                      yes   \n",
       "3  Unable to speak with management or a redcross ...  Yes, with crate. Hall A   \n",
       "4  Maternity shelter accepting pregnant women, ho...                       No   \n",
       "\n",
       "             phone                                            shelter  \\\n",
       "0   (281) 367-1900                                   Woodlands Church   \n",
       "1   (713) 694-5570                                     6006 North Fwy   \n",
       "2   (979) 864-8016  Angleton ISD Administration Building / Brazori...   \n",
       "3   (713) 853-8001                                    George R. Brown   \n",
       "4    713 623-2120                                  LifeHouse Houston    \n",
       "\n",
       "                                              source  \\\n",
       "0          https://www.facebook.com/WoodlandsChurch/   \n",
       "1  https://www.galleryfurniture.com/cleaningsupplies   \n",
       "2                                                      \n",
       "3  http://www.grbhouston.com/george-r-brown-emerg...   \n",
       "4                                                 TX   \n",
       "\n",
       "                                        supply_needs  \\\n",
       "0  MUD OUT & CLEANING SUPPLIES NEEDED: Contractor...   \n",
       "1  new Clorox, shovels, Pinesol, shop vacs, spong...   \n",
       "2              no supplies, but running out of meals   \n",
       "3  Per automated message, no longer accepting don...   \n",
       "4                                               None   \n",
       "\n",
       "                   updatedAt                 updated_at updated_by  \\\n",
       "0                       None                       None      Benny   \n",
       "1                       None                       None      Robyn   \n",
       "2                       None                       None     aabeas   \n",
       "3  2017-09-03T20:24:21-05:00  2017-09-03T20:24:21-05:00      Rawaa   \n",
       "4                       None                       None       None   \n",
       "\n",
       "                                     volunteer_needs  \n",
       "0                                                     \n",
       "1  9/2 - none today, volunteers can sign up on we...  \n",
       "2  none, Office of Homeland Preparedness has over...  \n",
       "3  Volunteers needed. Special need for: Social Wo...  \n",
       "4                                 None at this time   "
      ]
     },
     "execution_count": 1,
     "metadata": {},
     "output_type": "execute_result"
    }
   ],
   "source": [
    "import requests\n",
    "import pandas as pd\n",
    "import matplotlib.pyplot as plt\n",
    "\n",
    "# request the needs, products, and shelters data from the API\n",
    "# parse the response body as pandas DF\n",
    "d1 = requests.get('https://api.harveyneeds.org/api/v1/needs').json()\n",
    "needs = pd.DataFrame(list(d1.items())[0][1])\n",
    "\n",
    "# most needs aren't a specific product so this DF wont be used much\n",
    "d2 = requests.get('https://api.harveyneeds.org/api/v1/products').json()\n",
    "products = pd.DataFrame(list(d2.items())[0][1])\n",
    "\n",
    "d3 = requests.get('https://api.harveyneeds.org/api/v1/shelters').json()\n",
    "shelters = pd.DataFrame(list(d3.items())[0][1])\n",
    "shelters.head()"
   ]
  },
  {
   "cell_type": "markdown",
   "metadata": {},
   "source": [
    "<h1>Visualizing the needs and shelters</h1>"
   ]
  },
  {
   "cell_type": "code",
   "execution_count": 2,
   "metadata": {},
   "outputs": [
    {
     "data": {
      "image/png": "[encoded data removed]",
      "text/plain": [
       "<matplotlib.figure.Figure at 0x22969d7c6a0>"
      ]
     },
     "metadata": {},
     "output_type": "display_data"
    }
   ],
   "source": [
    "# plot the needs and shelters\n",
    "ax = plt.figure().add_subplot(111)\n",
    "ax.scatter(needs['latitude'], needs['longitude'], c='red', label='need')\n",
    "ax.scatter(shelters['latitude'], shelters['longitude'], label='shelter')\n",
    "plt.legend()\n",
    "plt.show()"
   ]
  },
  {
   "cell_type": "code",
   "execution_count": 3,
   "metadata": {
    "scrolled": true
   },
   "outputs": [
    {
     "data": {
      "image/png": "[encoded data removed]",
      "text/plain": [
       "<matplotlib.figure.Figure at 0x22969d7c518>"
      ]
     },
     "metadata": {},
     "output_type": "display_data"
    }
   ],
   "source": [
    "# remove noise and replot\n",
    "ax2 = plt.figure().add_subplot(111)\n",
    "processed = needs.drop(20) #only do this to make the plotting more informative\n",
    "ax2.scatter(processed['latitude'], processed['longitude'], c='red', label='need')\n",
    "ax2.scatter(shelters['latitude'], shelters['longitude'], label='shelter')\n",
    "plt.legend()\n",
    "plt.show()"
   ]
  },
  {
   "cell_type": "markdown",
   "metadata": {},
   "source": [
    "<h1>Needs by catagory</h1>"
   ]
  },
  {
   "cell_type": "code",
   "execution_count": 4,
   "metadata": {
    "scrolled": true
   },
   "outputs": [
    {
     "data": {
      "image/png": "[encoded data removed]",
      "text/plain": [
       "<matplotlib.figure.Figure at 0x229673d7080>"
      ]
     },
     "metadata": {},
     "output_type": "display_data"
    }
   ],
   "source": [
    "import numpy as np\n",
    "idx = 'tell_us_about_the_supply_needs' # column name of interest\n",
    "\n",
    "# get the number of needs matching certain categories\n",
    "needVolunteers = needs[needs['are_volunteers_needed'] == True].size # keywords could affect the relative counts slightly\n",
    "needFoods = needs[needs[idx].str.contains(\"food|perishable|water\") == True].size\n",
    "needBabySups = needs[needs[idx].str.contains(\"baby|diaper\") == True].size\n",
    "needHygenics = needs[needs[idx].str.contains(\"hygiene|cleaning\") == True].size\n",
    "needClothes = needs[needs[idx].str.contains(\"clothing|shoes|clothes\") == True].size\n",
    "\n",
    "# compare the number of needs in each category\n",
    "vals = [needVolunteers, needFoods, needBabySups, needHygenics, needClothes]\n",
    "labels = ('volunteers', 'food/water', 'baby supplies', 'toiletries/hygenics', 'clothing')\n",
    "pos = np.arange(len(vals))\n",
    "\n",
    "plt.barh(pos, vals, align='center')\n",
    "plt.yticks(pos, labels)\n",
    "plt.xlabel('# of needs')\n",
    "plt.show()"
   ]
  },
  {
   "cell_type": "markdown",
   "metadata": {},
   "source": [
    "<h1>endpoints fors the DisasterConnect app are exposed as well</h1>"
   ]
  },
  {
   "cell_type": "code",
   "execution_count": 5,
   "metadata": {
    "collapsed": true
   },
   "outputs": [],
   "source": [
    "#requesting the data from API\n",
    "d4 = requests.get('https://api.harveyneeds.org/api/v1/connect/categories').json()\n",
    "categories = pd.DataFrame(list(d4.items())[0][1])\n",
    "\n",
    "d5 = requests.get('https://api.harveyneeds.org/api/v1/connect/markers').json()\n",
    "markers = pd.DataFrame(list(d5.items())[0][1])"
   ]
  },
  {
   "cell_type": "code",
   "execution_count": 6,
   "metadata": {},
   "outputs": [
    {
     "data": {
      "text/plain": [
       "categories\n",
       "Equipment         0.2\n",
       "Food              0.1\n",
       "Labor             0.6\n",
       "Transportation    0.1\n",
       "Name: categories, dtype: float64"
      ]
     },
     "execution_count": 6,
     "metadata": {},
     "output_type": "execute_result"
    }
   ],
   "source": [
    "#process the categories column, extracting useful info\n",
    "s = markers['categories'].apply(lambda d: list(d.keys())[0])\n",
    "\n",
    "#group by category and collect the counts, converting to a %\n",
    "stats = s.groupby(s).count().apply(lambda i: i/10.0)\n",
    "stats"
   ]
  },
  {
   "cell_type": "code",
   "execution_count": 7,
   "metadata": {},
   "outputs": [
    {
     "data": {
      "image/png": "[encoded data removed]",
      "text/plain": [
       "<matplotlib.figure.Figure at 0x2296c24c7b8>"
      ]
     },
     "metadata": {},
     "output_type": "display_data"
    }
   ],
   "source": [
    "vals = stats.tolist()\n",
    "vals.extend([0.0, 0.0])\n",
    "labels = [\"equipment\", \"food\", \"labor\", \"transportation\", \"housing\", \"supplies\"]\n",
    "\n",
    "# plot the data\n",
    "pos = np.arange(len(vals))\n",
    "\n",
    "plt.barh(pos, vals, align='center')\n",
    "plt.yticks(pos, labels)\n",
    "plt.xlabel('fraction of needs')\n",
    "plt.show()"
   ]
  },
  {
   "cell_type": "markdown",
   "metadata": {},
   "source": [
    "<h3><i>it turns out that the data returned by the \"connect\" controller is insufficient (there seem to be only 10 records) so only the data from the default controller will be used</i></h3>"
   ]
  },
  {
   "cell_type": "code",
   "execution_count": null,
   "metadata": {
    "collapsed": true
   },
   "outputs": [],
   "source": []
  }
 ],
 "metadata": {
  "kernelspec": {
   "display_name": "Python 3",
   "language": "python",
   "name": "python3"
  },
  "language_info": {
   "codemirror_mode": {
    "name": "ipython",
    "version": 3
   },
   "file_extension": ".py",
   "mimetype": "text/x-python",
   "name": "python",
   "nbconvert_exporter": "python",
   "pygments_lexer": "ipython3",
   "version": "3.6.3"
  }
 },
 "nbformat": 4,
 "nbformat_minor": 2
}
