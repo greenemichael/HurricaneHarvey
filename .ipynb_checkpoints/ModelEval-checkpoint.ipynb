{
 "cells": [
  {
   "cell_type": "code",
   "execution_count": 2,
   "metadata": {
    "collapsed": true
   },
   "outputs": [],
   "source": [
    "import requests\n",
    "import pandas as pd\n",
    "import matplotlib.pyplot as plt\n",
    "import numpy as np\n",
    "from sklearn import metrics\n",
    "\n",
    "# request the needs, products, and shelters data from the API\n",
    "# parse the response body as pandas DF\n",
    "d1 = requests.get('https://api.harveyneeds.org/api/v1/needs').json()\n",
    "n = pd.DataFrame(list(d1.items())[0][1])\n",
    "\n",
    "#create a DF to hold locations and drop records missing info\n",
    "needs = n[['latitude', 'longitude']].dropna()\n",
    "n2 = needs[needs['latitude'] > 29]\n",
    "n3 = n2[n2['latitude'] < 31]\n",
    "n4 = n3[n3['longitude'] > -99]\n",
    "\n",
    "d3 = requests.get('https://api.harveyneeds.org/api/v1/shelters').json()\n",
    "s = pd.DataFrame(list(d3.items())[0][1])\n",
    "shelters = s[['latitude', 'longitude']].dropna()\n",
    "s2 = shelters[shelters['latitude'] < 35]"
   ]
  },
  {
   "cell_type": "code",
   "execution_count": 7,
   "metadata": {},
   "outputs": [
    {
     "data": {
      "text/plain": [
       "0.79655137674120235"
      ]
     },
     "execution_count": 7,
     "metadata": {},
     "output_type": "execute_result"
    }
   ],
   "source": [
    "# AC model, use for \"ideal\" clustering\n",
    "from sklearn.cluster import AgglomerativeClustering\n",
    "nClusters = 5\n",
    "ac = AgglomerativeClustering(nClusters).fit(n3) # similarity by euclidean distance, Wards method for merging clusters\n",
    "\n",
    "aclabels = ac.labels_\n",
    "\n",
    "from sklearn.cluster import KMeans\n",
    "km = KMeans(nClusters).fit(n3) # default to KMeans++ initialization\n",
    "\n",
    "# Number of clusters in labels, ignoring noise if present.\n",
    "kmlabels = km.labels_\n",
    "\n",
    "# Fowlkes Mallows score to test how close kMeans is to AC\n",
    "metrics.fowlkes_mallows_score(aclabels, kmlabels)"
   ]
  },
  {
   "cell_type": "markdown",
   "metadata": {},
   "source": [
    "<h2>We can say that our kMeans clustering matches the AC model 80% of the time</h2>"
   ]
  },
  {
   "cell_type": "code",
   "execution_count": 15,
   "metadata": {},
   "outputs": [
    {
     "data": {
      "image/png": "[encoded data removed]",
      "text/plain": [
       "<matplotlib.figure.Figure at 0x1970a0d7438>"
      ]
     },
     "metadata": {},
     "output_type": "display_data"
    }
   ],
   "source": [
    "# kMeans model for shelters data\n",
    "km2 = KMeans(nClusters).fit(s2)\n",
    "needCents = km.cluster_centers_\n",
    "sheltCents = km2.cluster_centers_\n",
    "nX = []\n",
    "sX = []\n",
    "nY = []\n",
    "sY = []\n",
    "for i in range(len(needCents)):\n",
    "    nX.append(needCents[i][0])\n",
    "    nY.append(needCents[i][1])\n",
    "    sX.append(sheltCents[i][0])\n",
    "    sY.append(sheltCents[i][1])\n",
    "\n",
    "plt.scatter(nX, nY, label=\"needs\")\n",
    "plt.scatter(sX, sY, label=\"shelters\")\n",
    "plt.legend()\n",
    "plt.show()"
   ]
  },
  {
   "cell_type": "code",
   "execution_count": 22,
   "metadata": {},
   "outputs": [
    {
     "name": "stdout",
     "output_type": "stream",
     "text": [
      "greatest distance between shortest pairs:  0.43122839839342864\n"
     ]
    }
   ],
   "source": [
    "# use Hausdorff Distance to compute distance between two sets of centroids\n",
    "import scipy.spatial.distance as hd\n",
    "hausdorff = hd.directed_hausdorff(needCents, sheltCents)[0]\n",
    "print(\"greatest distance between shortest pairs: \", hausdorff)"
   ]
  },
  {
   "cell_type": "markdown",
   "metadata": {
    "collapsed": true
   },
   "source": [
    "<h2>If perfect, hausdorff distance would be 0 because each shelter centroid coincides with a needs centroid. Even by examining the graph it is clear that the shelters dont coincide with the needs extremely well.</h2>"
   ]
  },
  {
   "cell_type": "code",
   "execution_count": null,
   "metadata": {
    "collapsed": true
   },
   "outputs": [],
   "source": []
  }
 ],
 "metadata": {
  "kernelspec": {
   "display_name": "Python 3",
   "language": "python",
   "name": "python3"
  },
  "language_info": {
   "codemirror_mode": {
    "name": "ipython",
    "version": 3
   },
   "file_extension": ".py",
   "mimetype": "text/x-python",
   "name": "python",
   "nbconvert_exporter": "python",
   "pygments_lexer": "ipython3",
   "version": "3.6.3"
  }
 },
 "nbformat": 4,
 "nbformat_minor": 2
}
